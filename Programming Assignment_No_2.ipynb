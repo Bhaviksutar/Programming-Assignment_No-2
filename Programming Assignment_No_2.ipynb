{
 "cells": [
  {
   "cell_type": "markdown",
   "id": "7b8a61b1",
   "metadata": {},
   "source": [
    "# Programming Assignment_No.2"
   ]
  },
  {
   "cell_type": "code",
   "execution_count": 7,
   "id": "2a0c56d4",
   "metadata": {},
   "outputs": [
    {
     "name": "stdout",
     "output_type": "stream",
     "text": [
      "Enter the value: 2.3\n",
      "the kilometer converted to miles is  1.4291532999999998\n"
     ]
    }
   ],
   "source": [
    "#Question No. 1:-Write a Python program to convert kilometers to miles?\n",
    "\n",
    "#Entering the values given by the users\n",
    "kilometer = float(input(\"Enter the value: \"))\n",
    "\n",
    "miles = 0.621371\n",
    "\n",
    "#calculating the formula\n",
    "kilo_to_miles = kilometer * miles\n",
    "\n",
    "#Finding the Solution\n",
    "print(\"the kilometer converted to miles is \", kilo_to_miles)"
   ]
  },
  {
   "cell_type": "code",
   "execution_count": 8,
   "id": "c83ae48d",
   "metadata": {},
   "outputs": [
    {
     "name": "stdout",
     "output_type": "stream",
     "text": [
      "Enter the value: 32\n",
      "the celsius to fahrenheit is  89.6\n"
     ]
    }
   ],
   "source": [
    "#Question No. 2:-Write a Python program to convert Celsius to Fahrenheit?\n",
    "\n",
    "#Entering the values given by the users\n",
    "celsius = float(input(\"Enter the value: \"))\n",
    "\n",
    "#calculating the formula\n",
    "cel_to_farh = (celsius * 1.8) + 32\n",
    "\n",
    "#Finding the Solution\n",
    "print('the celsius to fahrenheit is ', cel_to_farh)"
   ]
  },
  {
   "cell_type": "code",
   "execution_count": 5,
   "id": "72955eab",
   "metadata": {},
   "outputs": [
    {
     "name": "stdout",
     "output_type": "stream",
     "text": [
      "Enter the year: 22\n",
      "Enter the month: 08\n",
      "     August 22\n",
      "Mo Tu We Th Fr Sa Su\n",
      " 1  2  3  4  5  6  7\n",
      " 8  9 10 11 12 13 14\n",
      "15 16 17 18 19 20 21\n",
      "22 23 24 25 26 27 28\n",
      "29 30 31\n",
      "\n"
     ]
    }
   ],
   "source": [
    "#Question No. 3:-Write a Python program to display calendar?\n",
    "\n",
    "import calendar\n",
    "\n",
    "yy = int(input(\"Enter the year: \"))\n",
    "mm = int(input(\"Enter the month: \"))\n",
    "\n",
    "print(calendar.month(yy, mm))"
   ]
  },
  {
   "cell_type": "code",
   "execution_count": 6,
   "id": "6e925e5f",
   "metadata": {},
   "outputs": [
    {
     "name": "stdout",
     "output_type": "stream",
     "text": [
      "The solution are (-3+0j) and (-2+0j)\n"
     ]
    }
   ],
   "source": [
    "#Question No. 4:-Write a Python program to solve quadratic equation?\n",
    "\n",
    "# import complex math module\n",
    "import cmath\n",
    "a = 1\n",
    "b = 5\n",
    "c = 6\n",
    "\n",
    "#calculate the discriminant\n",
    "d = (b**2) - (4*a*c)\n",
    "\n",
    "#Finding the solution\n",
    "sol1 = (-b-cmath.sqrt(d))/(2*a)\n",
    "sol2 = (-b+cmath.sqrt(d))/(2*a)\n",
    "\n",
    "print('The solution are {0} and {1}'.format(sol1,sol2))"
   ]
  },
  {
   "cell_type": "code",
   "execution_count": 10,
   "id": "1bb4f8f4",
   "metadata": {},
   "outputs": [
    {
     "name": "stdout",
     "output_type": "stream",
     "text": [
      "Enter the value of x: 3\n",
      "Enter the value of y: 4\n",
      "Before swapping: \n",
      "Value of x :  3  and y :  4\n",
      "After swapping: \n",
      "Value of x :  4  and y :  3\n"
     ]
    }
   ],
   "source": [
    "#Question No. 5:-Write a Python program to swap two variables without temp variable?\n",
    "\n",
    "x = int(input(\"Enter the value of x: \"))\n",
    "y = int(input(\"Enter the value of y: \"))\n",
    " \n",
    "print (\"Before swapping: \")\n",
    "print(\"Value of x : \", x, \" and y : \", y)\n",
    " \n",
    "#code to swap 'x' and 'y'\n",
    "x, y = y, x\n",
    " \n",
    "print (\"After swapping: \")\n",
    "print(\"Value of x : \", x, \" and y : \", y)"
   ]
  },
  {
   "cell_type": "code",
   "execution_count": null,
   "id": "af9a7f5d",
   "metadata": {},
   "outputs": [],
   "source": []
  }
 ],
 "metadata": {
  "kernelspec": {
   "display_name": "Python 3 (ipykernel)",
   "language": "python",
   "name": "python3"
  },
  "language_info": {
   "codemirror_mode": {
    "name": "ipython",
    "version": 3
   },
   "file_extension": ".py",
   "mimetype": "text/x-python",
   "name": "python",
   "nbconvert_exporter": "python",
   "pygments_lexer": "ipython3",
   "version": "3.9.7"
  }
 },
 "nbformat": 4,
 "nbformat_minor": 5
}
